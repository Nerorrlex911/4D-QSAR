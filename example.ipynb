{
 "cells": [
  {
   "cell_type": "markdown",
   "metadata": {},
   "source": [
    "# Introduction\n",
    "\n",
    "Multi-instance (MI) machine learning approaches can be used to solve the issues of representation of each molecule by multiple conformations (instances) and automatic selection of the most relevant ones. In the multi-instance approach, an example (i.e., a molecule) is presented by a bag of instances (i.e., a set of conformations), and a label (a molecule property value) is available only for a bag (a molecule), but not for individual instances (conformations).\n",
    "\n",
    "In this study, we have implemented several multi-instance algorithms, both conventional and based on deep learning, and investigated their performance. We have compared the performance of MI-QSAR models with those based on the classical single-instance QSAR (SI-QSAR) approach in which each molecule is encoded by either 2D descriptors computed for the corresponding molecular graph or 3D descriptors issued for a single lowest-energy conformation. \n",
    "\n",
    "<img src=\"img/toc.png\" width=\"600\"/>"
   ]
  },
  {
   "cell_type": "markdown",
   "metadata": {},
   "source": [
    "# Descriptors\n",
    "\n",
    "Сonformations representing each molecule were generated using the algorithm implemented in RDKit. In our study, we generated up to 100 conformations and removed conformations with RMSD values below 0.5Å to the remaining ones to reduce redundancy.For the descriptor representation of conformations, we used previously developed 3D pharmacophore signatures. Each conformation is represented by a set of pharmacophore features (H-bond donor/acceptor, the center of positive/negative charge, hydrophobic, and aromatic) determined by applying the corresponding SMARTS patterns. All possible quadruplets of features of a particular conformation were enumerated. Distances between features were binned to allow fuzzy matching of quadruplets with small differences in the position of features. Here we used the 1Å bin step as it demonstrated reasonable performance in our previous studies. These signatures consider distances between features and their spatial arrangement to recognize the stereo configuration of quadruplets. We counted the number of identical 3D pharmacophore quadruplet signatures for each conformation and used the obtained vectors as descriptors for model building. 3D pharmacophore descriptors used in this study were implemented in the pmapper Python package (https://github.com/DrrDom/pmapper). \n",
    "To build 2D models, we chose binary Morgan fingerprints (MorganFP) of radius 2 and size 2048 calculated with RDKit because they are widely used 2D descriptors. For comparative purpose we also used 2D physicochemical descriptors (PhysChem) and binary 2D pharmacophore fingerprints (PharmFP) calculated with RDKit."
   ]
  },
  {
   "cell_type": "markdown",
   "metadata": {},
   "source": [
    "# 0. Code installation\n",
    "\n",
    "Using **conda** and **pip** is the easiest way to install all required packages. Create a new environment (named \"exp\") with Python 3.6. Note the issues related to RDKit installation https://stackoverflow.com/questions/70202430/rdkit-importerror-dll-load-failed. <br/>\n",
    "\n",
    "Run these commands in the command line:\n",
    "\n",
    "`conda create -n exp python=3.6`<br/>\n",
    "`conda activate exp` <br/>\n",
    "\n",
    "Install RDKit package: <br/>\n",
    "\n",
    "`conda install -c conda-forge rdkit` <br/>\n",
    "\n",
    "Install PyTorch package: <br/>\n",
    "\n",
    "`conda install pytorch torchvision torchaudio cudatoolkit=11.3 -c pytorch` <br/>\n",
    "`pip install torch_optimizer` <br/>\n",
    "\n",
    "Install software to calculate 3D pmapper descriptors: <br/>\n",
    "\n",
    "`conda install -c conda-forge openbabel` <br/>\n",
    "` pip install networkx` <br/>\n",
    "`pip install pmapper` <br/>"
   ]
  },
  {
   "cell_type": "markdown",
   "metadata": {},
   "source": [
    "# 1. Descriptor calculation"
   ]
  },
  {
   "cell_type": "code",
   "execution_count": null,
   "metadata": {},
   "outputs": [],
   "source": [
    "import os\n",
    "from miqsar.utils import calc_3d_pmapper\n",
    "\n",
    "#Choose dataset to be modeled and create a folder where the descriptors will be stored\n",
    "\n",
    "nconfs_list = [1, 5] #number of conformations to generate; calculation is time consuming, so here we set 5, for real tasks set 25..100\n",
    "ncpu = 2 # set number of CPU cores \n",
    "\n",
    "dataset_file = os.path.join('datasets', 'CHEMBL1075104.smi')\n",
    "descriptors_folder = os.path.join('descriptors')\n",
    "# os.mkdir(descriptors_folder)\n",
    "\n",
    "out_fname = calc_3d_pmapper(input_fname=dataset_file, nconfs_list=nconfs_list, energy=100,  descr_num=[4],\n",
    "                            path=descriptors_folder, ncpu=ncpu)"
   ]
  },
  {
   "cell_type": "markdown",
   "metadata": {},
   "source": [
    "The descriptor folder contains several files:\n",
    "\n",
    "`conf-CHEMBL1075104_1.pkl` - pickle file with RDKit the lowest-energy conformations<br/>\n",
    "`conf-CHEMBL1075104_5.pkl` - pickle file with RDKit the generated conformations<br/>\n",
    "`conf-5_CHEMBL1075104_log.pkl` - pickle file with the conformation energies<br/>\n",
    "\n",
    "`PhFprPmapper_conf-CHEMBL1075104_1.txt` - SVM file with pmapper 3D descriptors for the lowest-energy conformatons<br/>\n",
    "`PhFprPmapper_conf-CHEMBL1075104_1.colnames` - names of pmapper 3D descriptors for the lowest-energy conformatons<br/>\n",
    "`PhFprPmapper_conf-catalyst_data_1.rownames` - ids of the lowest-energy conformatons<br/>\n",
    "\n",
    "`PhFprPmapper_conf-CHEMBL1075104_5.txt` - SVM file with pmapper 3D descriptors for generated conformations<br/>\n",
    "`PhFprPmapper_conf-CHEMBL1075104_5.colnames` - names of pmapper 3D descriptors for generated conformations<br/>\n",
    "`PhFprPmapper_conf-CHEMBL1075104_5.rownames` - ids of generated conformations<br/>"
   ]
  },
  {
   "cell_type": "markdown",
   "metadata": {},
   "source": [
    "# 2. Preparation of training and test set"
   ]
  },
  {
   "cell_type": "code",
   "execution_count": null,
   "metadata": {},
   "outputs": [],
   "source": [
    "import os\n",
    "import pickle\n",
    "import numpy as np\n",
    "import pandas as pd\n",
    "from sklearn.model_selection import train_test_split\n",
    "\n",
    "def load_svm_data(fname):\n",
    "    \n",
    "    def str_to_vec(dsc_str, dsc_num):\n",
    "\n",
    "        tmp = {}\n",
    "        for i in dsc_str.split(' '):\n",
    "            tmp[int(i.split(':')[0])] = int(i.split(':')[1])\n",
    "        #\n",
    "        tmp_sorted = {}\n",
    "        for i in range(dsc_num):\n",
    "            tmp_sorted[i] = tmp.get(i, 0)\n",
    "        vec = list(tmp_sorted.values())\n",
    "\n",
    "        return vec\n",
    "    \n",
    "    #\n",
    "    with open(fname) as f:\n",
    "        dsc_tmp = [i.strip() for i in f.readlines()]\n",
    "\n",
    "    with open(fname.replace('txt', 'rownames')) as f:\n",
    "        mol_names = [i.strip() for i in f.readlines()]\n",
    "    #\n",
    "    labels_tmp = [float(i.split(':')[1]) for i in mol_names]\n",
    "    idx_tmp = [i.split(':')[0] for i in mol_names]\n",
    "    dsc_num = max([max([int(j.split(':')[0]) for j in i.strip().split(' ')]) for i in dsc_tmp])\n",
    "    #\n",
    "    bags, labels, idx = [], [], []\n",
    "    for mol_idx in list(np.unique(idx_tmp)):\n",
    "        bag, labels_, idx_ = [], [], []\n",
    "        for dsc_str, label, i in zip(dsc_tmp, labels_tmp, idx_tmp):\n",
    "            if i == mol_idx:\n",
    "                bag.append(str_to_vec(dsc_str, dsc_num))\n",
    "                labels_.append(label)\n",
    "                idx_.append(i)\n",
    "                \n",
    "        bags.append(np.array(bag).astype('uint8'))\n",
    "        labels.append(labels_[0])\n",
    "        idx.append(idx_[0])\n",
    "\n",
    "    return np.array(bags), np.array(labels), np.array(idx)\n",
    "\n",
    "\n",
    "# split data into a training and test set\n",
    "dsc_fname = os.path.join('descriptors', 'PhFprPmapper_conf-CHEMBL1075104_5.txt') # descriptors file\n",
    "bags, labels, idx = load_svm_data(dsc_fname)\n",
    "print(f'There are {len(bags)} molecules encoded with {bags[0].shape[1]} descriptors')\n",
    "\n",
    "x_train, x_test, y_train, y_test, idx_train, idx_test = train_test_split(bags, labels, idx)\n",
    "print(f'There are {len(x_train)} training molecules and {len(x_test)} test molecules')"
   ]
  },
  {
   "cell_type": "markdown",
   "metadata": {},
   "source": [
    "# 3. Model training"
   ]
  },
  {
   "cell_type": "markdown",
   "metadata": {},
   "source": [
    "For better training of the neural network, the descriptors should be scaled:"
   ]
  },
  {
   "cell_type": "code",
   "execution_count": null,
   "metadata": {},
   "outputs": [],
   "source": [
    "from sklearn.preprocessing import MinMaxScaler\n",
    "\n",
    "def scale_data(x_train, x_test):\n",
    "    scaler = MinMaxScaler()\n",
    "    scaler.fit(np.vstack(x_train))\n",
    "    x_train_scaled = x_train.copy()\n",
    "    x_test_scaled = x_test.copy()\n",
    "    for i, bag in enumerate(x_train):\n",
    "        x_train_scaled[i] = scaler.transform(bag)\n",
    "    for i, bag in enumerate(x_test):\n",
    "        x_test_scaled[i] = scaler.transform(bag)\n",
    "    return np.array(x_train_scaled), np.array(x_test_scaled)\n",
    "\n",
    "\n",
    "x_train_scaled, x_test_scaled = scale_data(x_train, x_test)"
   ]
  },
  {
   "cell_type": "markdown",
   "metadata": {},
   "source": [
    "One should implement a protocol for optimizing the hyperparameters of the neural network. Here we assign the default hyperparameters found with the grid search technique."
   ]
  },
  {
   "cell_type": "code",
   "execution_count": null,
   "metadata": {},
   "outputs": [],
   "source": [
    "from miqsar.estimators.wrappers import InstanceWrapperMLPRegressor\n",
    "from miqsar.estimators.utils import set_seed\n",
    "set_seed(43)\n",
    "\n",
    "ndim = (x_train_scaled[0].shape[1], 256, 128, 64) # number of hidden layers and neurons in the main network\n",
    "pool = 'mean'                                     # type of pulling of instance descriptors\n",
    "n_epoch = 1000                                    # maximum number of learning epochs\n",
    "lr = 0.001                                        # learning rate\n",
    "weight_decay = 0.001                              # l2 regularization\n",
    "batch_size = 99999999                             # batch size\n",
    "init_cuda = True                                  # True if GPU is available\n",
    "\n",
    "\n",
    "net = InstanceWrapperMLPRegressor(ndim=ndim, pool=pool, init_cuda=init_cuda)\n",
    "net.fit(x_train_scaled, y_train, \n",
    "        n_epoch=n_epoch, \n",
    "        lr=lr,\n",
    "        weight_decay=weight_decay,\n",
    "        batch_size=batch_size)"
   ]
  },
  {
   "cell_type": "code",
   "execution_count": null,
   "metadata": {},
   "outputs": [],
   "source": [
    "from sklearn.metrics import r2_score, mean_absolute_error\n",
    "\n",
    "y_pred = net.predict(x_test_scaled)\n",
    "\n",
    "print('3D/MI/Instance-Wrapper: r2_score test = {:.2f}'.format(r2_score(y_test, y_pred)))"
   ]
  },
  {
   "cell_type": "code",
   "execution_count": null,
   "metadata": {},
   "outputs": [],
   "source": []
  },
  {
   "cell_type": "code",
   "execution_count": null,
   "metadata": {},
   "outputs": [],
   "source": []
  },
  {
   "cell_type": "code",
   "execution_count": null,
   "metadata": {},
   "outputs": [],
   "source": []
  },
  {
   "cell_type": "code",
   "execution_count": null,
   "metadata": {},
   "outputs": [],
   "source": []
  },
  {
   "cell_type": "code",
   "execution_count": null,
   "metadata": {},
   "outputs": [],
   "source": []
  }
 ],
 "metadata": {
  "kernelspec": {
   "display_name": "exp",
   "language": "python",
   "name": "exp"
  },
  "language_info": {
   "codemirror_mode": {
    "name": "ipython",
    "version": 3
   },
   "file_extension": ".py",
   "mimetype": "text/x-python",
   "name": "python",
   "nbconvert_exporter": "python",
   "pygments_lexer": "ipython3",
   "version": "3.6.13"
  }
 },
 "nbformat": 4,
 "nbformat_minor": 1
}
